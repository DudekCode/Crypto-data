{
 "cells": [
  {
   "cell_type": "markdown",
   "id": "6c3e2520",
   "metadata": {},
   "source": [
    "# Data Science - Cryptocurrencies"
   ]
  },
  {
   "cell_type": "code",
   "execution_count": 5,
   "id": "d57e39e4",
   "metadata": {},
   "outputs": [],
   "source": [
    "import pandas as pd\n",
    "import pandas_datareader as reader\n",
    "import numpy as np\n",
    "import matplotlib.pyplot as plt\n",
    "import seaborn as sns\n",
    "import datetime as dt"
   ]
  },
  {
   "cell_type": "code",
   "execution_count": 19,
   "id": "1e51d6af",
   "metadata": {},
   "outputs": [],
   "source": [
    "c = \"-USD\"\n",
    "metric = \"Close\"\n",
    "start = dt.datetime(2018, 1, 1)\n",
    "end = dt.datetime.now()"
   ]
  },
  {
   "cell_type": "code",
   "execution_count": 20,
   "id": "1df4f0b4",
   "metadata": {},
   "outputs": [],
   "source": [
    "crypto_list = ['BTC-USD', 'ETH-USD']"
   ]
  },
  {
   "cell_type": "code",
   "execution_count": 21,
   "id": "94a655e3",
   "metadata": {},
   "outputs": [],
   "source": [
    "df = reader.get_data_yahoo(crypto_list,start,end)['Adj Close']"
   ]
  },
  {
   "cell_type": "code",
   "execution_count": 22,
   "id": "092a7567",
   "metadata": {},
   "outputs": [
    {
     "data": {
      "text/html": [
       "<div>\n",
       "<style scoped>\n",
       "    .dataframe tbody tr th:only-of-type {\n",
       "        vertical-align: middle;\n",
       "    }\n",
       "\n",
       "    .dataframe tbody tr th {\n",
       "        vertical-align: top;\n",
       "    }\n",
       "\n",
       "    .dataframe thead th {\n",
       "        text-align: right;\n",
       "    }\n",
       "</style>\n",
       "<table border=\"1\" class=\"dataframe\">\n",
       "  <thead>\n",
       "    <tr style=\"text-align: right;\">\n",
       "      <th>Symbols</th>\n",
       "      <th>BTC-USD</th>\n",
       "      <th>ETH-USD</th>\n",
       "    </tr>\n",
       "    <tr>\n",
       "      <th>Date</th>\n",
       "      <th></th>\n",
       "      <th></th>\n",
       "    </tr>\n",
       "  </thead>\n",
       "  <tbody>\n",
       "    <tr>\n",
       "      <th>2018-01-01</th>\n",
       "      <td>13657.200195</td>\n",
       "      <td>772.640991</td>\n",
       "    </tr>\n",
       "    <tr>\n",
       "      <th>2018-01-02</th>\n",
       "      <td>14982.099609</td>\n",
       "      <td>884.443970</td>\n",
       "    </tr>\n",
       "    <tr>\n",
       "      <th>2018-01-03</th>\n",
       "      <td>15201.000000</td>\n",
       "      <td>962.719971</td>\n",
       "    </tr>\n",
       "    <tr>\n",
       "      <th>2018-01-04</th>\n",
       "      <td>15599.200195</td>\n",
       "      <td>980.921997</td>\n",
       "    </tr>\n",
       "    <tr>\n",
       "      <th>2018-01-05</th>\n",
       "      <td>17429.500000</td>\n",
       "      <td>997.719971</td>\n",
       "    </tr>\n",
       "    <tr>\n",
       "      <th>...</th>\n",
       "      <td>...</td>\n",
       "      <td>...</td>\n",
       "    </tr>\n",
       "    <tr>\n",
       "      <th>2022-09-28</th>\n",
       "      <td>19426.720703</td>\n",
       "      <td>1337.410889</td>\n",
       "    </tr>\n",
       "    <tr>\n",
       "      <th>2022-09-29</th>\n",
       "      <td>19573.050781</td>\n",
       "      <td>1335.652344</td>\n",
       "    </tr>\n",
       "    <tr>\n",
       "      <th>2022-09-30</th>\n",
       "      <td>19431.789062</td>\n",
       "      <td>1327.978638</td>\n",
       "    </tr>\n",
       "    <tr>\n",
       "      <th>2022-10-01</th>\n",
       "      <td>19312.095703</td>\n",
       "      <td>1311.644409</td>\n",
       "    </tr>\n",
       "    <tr>\n",
       "      <th>2022-10-02</th>\n",
       "      <td>19266.634766</td>\n",
       "      <td>1305.570801</td>\n",
       "    </tr>\n",
       "  </tbody>\n",
       "</table>\n",
       "<p>1736 rows × 2 columns</p>\n",
       "</div>"
      ],
      "text/plain": [
       "Symbols          BTC-USD      ETH-USD\n",
       "Date                                 \n",
       "2018-01-01  13657.200195   772.640991\n",
       "2018-01-02  14982.099609   884.443970\n",
       "2018-01-03  15201.000000   962.719971\n",
       "2018-01-04  15599.200195   980.921997\n",
       "2018-01-05  17429.500000   997.719971\n",
       "...                  ...          ...\n",
       "2022-09-28  19426.720703  1337.410889\n",
       "2022-09-29  19573.050781  1335.652344\n",
       "2022-09-30  19431.789062  1327.978638\n",
       "2022-10-01  19312.095703  1311.644409\n",
       "2022-10-02  19266.634766  1305.570801\n",
       "\n",
       "[1736 rows x 2 columns]"
      ]
     },
     "execution_count": 22,
     "metadata": {},
     "output_type": "execute_result"
    }
   ],
   "source": [
    "df"
   ]
  },
  {
   "cell_type": "code",
   "execution_count": null,
   "id": "41162553",
   "metadata": {},
   "outputs": [],
   "source": []
  },
  {
   "cell_type": "code",
   "execution_count": null,
   "id": "09a35814",
   "metadata": {},
   "outputs": [],
   "source": []
  },
  {
   "cell_type": "code",
   "execution_count": null,
   "id": "900a18e8",
   "metadata": {},
   "outputs": [],
   "source": []
  }
 ],
 "metadata": {
  "kernelspec": {
   "display_name": "Python 3 (ipykernel)",
   "language": "python",
   "name": "python3"
  },
  "language_info": {
   "codemirror_mode": {
    "name": "ipython",
    "version": 3
   },
   "file_extension": ".py",
   "mimetype": "text/x-python",
   "name": "python",
   "nbconvert_exporter": "python",
   "pygments_lexer": "ipython3",
   "version": "3.9.12"
  }
 },
 "nbformat": 4,
 "nbformat_minor": 5
}

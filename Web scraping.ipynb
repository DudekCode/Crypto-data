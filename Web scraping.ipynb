{
 "cells": [
  {
   "cell_type": "markdown",
   "id": "a1b677cc-486b-4d69-9fdc-35665eab2ae1",
   "metadata": {},
   "source": [
    "# WEB SCRAPING"
   ]
  },
  {
   "cell_type": "code",
   "execution_count": 2,
   "id": "1b5bee72-6ad4-4fc6-9b8a-3866bf4c5967",
   "metadata": {},
   "outputs": [],
   "source": [
    "# Import libraries\n",
    "import requests\n",
    "from bs4 import BeautifulSoup\n",
    "import pandas as pd"
   ]
  },
  {
   "cell_type": "code",
   "execution_count": 3,
   "id": "7d039c8e-c99e-4818-a865-c45ef413b511",
   "metadata": {},
   "outputs": [],
   "source": [
    "# Create an URL object\n",
    "url = 'https://wiki.openstreetmap.org/wiki/Map_features#Aerialway'\n",
    "# Create object page\n",
    "page = requests.get(url)"
   ]
  },
  {
   "cell_type": "code",
   "execution_count": 4,
   "id": "85563d69-c0e7-41de-b988-beb092bb0752",
   "metadata": {},
   "outputs": [
    {
     "data": {
      "text/plain": [
       "<Response [200]>"
      ]
     },
     "execution_count": 4,
     "metadata": {},
     "output_type": "execute_result"
    }
   ],
   "source": [
    "page"
   ]
  },
  {
   "cell_type": "code",
   "execution_count": 6,
   "id": "95e77ab2-0187-49fc-b16e-d7930c01bb26",
   "metadata": {},
   "outputs": [],
   "source": [
    "# parser-lxml = Change html to Python friendly format\n",
    "# Obtain page's information\n",
    "soup = BeautifulSoup(page.text, 'lxml')\n",
    "#soup"
   ]
  },
  {
   "cell_type": "code",
   "execution_count": 18,
   "id": "97d42af9-cd48-49e8-92ff-9f1e7f5a278b",
   "metadata": {},
   "outputs": [],
   "source": [
    "# Obtain information from tag <table>\n",
    "table1 = soup.find('taglist') #id=’main_table_countries_today’)\n",
    "table1"
   ]
  },
  {
   "cell_type": "code",
   "execution_count": 19,
   "id": "6f68f02d-acad-41a1-8b85-20397eaf7a4b",
   "metadata": {},
   "outputs": [],
   "source": [
    "table1"
   ]
  },
  {
   "cell_type": "code",
   "execution_count": 12,
   "id": "c887163f-00ff-4cdb-936b-db75bcf129ea",
   "metadata": {},
   "outputs": [],
   "source": [
    "# Obtain every title of columns with tag <th>\n",
    "headers = []\n",
    "for i in table1.find_all('th'):\n",
    " title = i.text\n",
    " headers.append(title)"
   ]
  },
  {
   "cell_type": "code",
   "execution_count": null,
   "id": "af09b99e-4fcb-4398-83e3-4dca6339efa2",
   "metadata": {},
   "outputs": [],
   "source": []
  },
  {
   "cell_type": "code",
   "execution_count": null,
   "id": "8d6d140f-b598-4704-80ec-df9044c3c2f2",
   "metadata": {},
   "outputs": [],
   "source": []
  },
  {
   "cell_type": "code",
   "execution_count": 13,
   "id": "24b61b40-4339-4df7-8a6f-42dcf620f72b",
   "metadata": {},
   "outputs": [
    {
     "data": {
      "text/plain": [
       "['Key\\n',\n",
       " 'Value\\n',\n",
       " 'Element\\n',\n",
       " 'Comment\\n',\n",
       " 'Carto rendering\\n',\n",
       " 'Photo\\n',\n",
       " '\\nSustenance\\n',\n",
       " '\\nEducation\\n',\n",
       " '\\nTransportation\\n',\n",
       " '\\nFinancial\\n',\n",
       " '\\nHealthcare\\n',\n",
       " '\\nEntertainment, Arts & Culture\\n',\n",
       " '\\nPublic Service\\n',\n",
       " '\\nFacilities\\n',\n",
       " '\\nWaste Management\\n',\n",
       " '\\nOthers\\n']"
      ]
     },
     "execution_count": 13,
     "metadata": {},
     "output_type": "execute_result"
    }
   ],
   "source": [
    "headers"
   ]
  },
  {
   "cell_type": "code",
   "execution_count": 15,
   "id": "ca051685-a5af-4837-be78-54621141fdfd",
   "metadata": {},
   "outputs": [],
   "source": [
    "# Convert wrapped text in column 13 into one line text\n",
    "headers[13] = 'Tests/1M pop'"
   ]
  },
  {
   "cell_type": "code",
   "execution_count": null,
   "id": "df3c134b-0307-4f75-bf40-b5eb49cbea1f",
   "metadata": {},
   "outputs": [],
   "source": []
  }
 ],
 "metadata": {
  "kernelspec": {
   "display_name": "Python 3 (ipykernel)",
   "language": "python",
   "name": "python3"
  },
  "language_info": {
   "codemirror_mode": {
    "name": "ipython",
    "version": 3
   },
   "file_extension": ".py",
   "mimetype": "text/x-python",
   "name": "python",
   "nbconvert_exporter": "python",
   "pygments_lexer": "ipython3",
   "version": "3.9.12"
  }
 },
 "nbformat": 4,
 "nbformat_minor": 5
}
